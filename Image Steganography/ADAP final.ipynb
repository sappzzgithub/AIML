{
 "cells": [
  {
   "cell_type": "markdown",
   "id": "9c5462d9-8cd5-4ac9-9759-b09f0b0ea165",
   "metadata": {},
   "source": [
    "**1. Imports and Helper Functions**"
   ]
  },
  {
   "cell_type": "code",
   "execution_count": 2,
   "id": "812f80bd-7611-498a-8be0-d27e05d63e2e",
   "metadata": {},
   "outputs": [],
   "source": [
    "import cv2  # OpenCV library for image processing\n",
    "import os  # OS module for interacting with the operating system\n",
    "\n",
    "# Lambda function to split a byte into three parts: \n",
    "# - First 3 bits (MSB), next 3 bits, and last 2 bits (LSB)\n",
    "split_byte_to_bits = lambda data: [data >> 5, (data >> 2) & 0x7, data & 0x3]\n",
    "\n",
    "# Lambda function to extract the least significant n bits from a byte\n",
    "extract_nbits_of_byte = lambda band, n: band & (2**n - 1)\n",
    "\n",
    "# Lambda function to merge 3 bit segments (red, green, and blue bits) into a single byte\n",
    "merge_bits = lambda rbits, gbits, bbits: (((rbits << 3) | gbits) << 2) | bbits"
   ]
  },
  {
   "cell_type": "markdown",
   "id": "4b84337c-3e7a-418e-808b-9b3dcbdea097",
   "metadata": {},
   "source": [
    "**2. Generate Embedded Image Name**"
   ]
  },
  {
   "cell_type": "code",
   "execution_count": 4,
   "id": "ef4315d0-06c9-4dba-abef-96bdd084ed60",
   "metadata": {},
   "outputs": [],
   "source": [
    "# Function to generate the name of an embedded image file\n",
    "# It replaces the filename in the given path with a prefixed \"e_\" and converts the extension to .png\n",
    "def generate_embedded_imagename(vessel_img):\n",
    "    if '/' in vessel_img:  # Check if the path uses '/' as the separator\n",
    "        temp = vessel_img.split('/')  # Split the path into components\n",
    "        temp[-1] = 'e_' + temp[-1]  # Add the \"e_\" prefix to the last part (filename)\n",
    "        ename = '/'.join(temp)  # Join the components back into a path\n",
    "        \n",
    "        # Replace .jpg or .jpeg extension with .png\n",
    "        if ename.lower().endswith('.jpg'):\n",
    "            ename = ename.replace('.jpg', '.png')\n",
    "        elif ename.lower().endswith('.jpeg'):\n",
    "            ename = ename.replace('.jpeg', '.png')\n",
    "        \n",
    "        return ename  # Return the modified file path\n",
    "    else:\n",
    "        # If the path does not use '/', prompt the user to use '/' as the separator\n",
    "        print('Use / as separator')\n",
    "        return Non"
   ]
  },
  {
   "cell_type": "markdown",
   "id": "cc3e5c6b-1734-42cb-a032-9dc8bcb15b41",
   "metadata": {},
   "source": [
    "**3. Generate Header for Embedding(For standardized header)**"
   ]
  },
  {
   "cell_type": "code",
   "execution_count": 6,
   "id": "92bad0f2-e3c7-476e-9f93-873b6b334d0e",
   "metadata": {},
   "outputs": [],
   "source": [
    "def generate_header(doc):\n",
    "    # This function generates a 30-byte header string for a document.\n",
    "    # The header includes:\n",
    "    # - The file name, which is 20 bytes (trimmed or padded with '*')\n",
    "    # - The file size, which is 10 bytes (right-aligned and padded with '*')\n",
    "\n",
    "    # Extract the file name from the provided path\n",
    "    # E.g., for '/Users/sakshizanjad/Downloads/ADAP/Stegano file.rtf', it extracts 'Stegano file.rtf'\n",
    "    name = doc.split('/')[-1]  # Split the path by '/' and take the last part (file name)\n",
    "\n",
    "    l = len(name)  # Get the length of the file name\n",
    "    if l > 20:\n",
    "        name = name[l - 20:]  # Trim the file name to the last 20 characters if it's too long\n",
    "    elif l < 20:\n",
    "        name = name.rjust(20, '*')  # Pad the file name on the left with '*' to make it 20 characters\n",
    "\n",
    "    # Get the file size in bytes\n",
    "    size = str(os.path.getsize(doc))  # Convert the file size to a string\n",
    "\n",
    "    # Ensure the file size is 10 characters, right-aligned and padded with '*'\n",
    "    size = size.rjust(10, '*')\n",
    "\n",
    "    # Return the concatenated header (20 bytes for the name + 10 bytes for the size)\n",
    "    return name + size\n"
   ]
  },
  {
   "cell_type": "markdown",
   "id": "a26c5634-5ff3-4944-86aa-722226a91eda",
   "metadata": {},
   "source": [
    "**4. Embed Data into Image**"
   ]
  },
  {
   "cell_type": "code",
   "execution_count": 8,
   "id": "38aeda2f-7c82-4106-8268-b4a773595d86",
   "metadata": {},
   "outputs": [],
   "source": [
    "def embed(vessel_image, doc):\n",
    "    # Embeds the contents of a document into an image for steganography.\n",
    "\n",
    "    # Check if the vessel image exists\n",
    "    if not os.path.exists(vessel_image):\n",
    "        print(vessel_image, 'not found')\n",
    "        return None\n",
    "\n",
    "    # Check if the document exists\n",
    "    if not os.path.exists(doc):\n",
    "        print(doc, 'not found')\n",
    "        return None\n",
    "\n",
    "    # Load the image into memory as a NumPy array (type: numpy.ndarray)\n",
    "    # mem_image.shape --> (height, width, color_channels)\n",
    "    mem_image = cv2.imread(vessel_image, cv2.IMREAD_COLOR)\n",
    "    h, w, _ = mem_image.shape  # Extract height (h), width (w), and channel size (_)\n",
    "\n",
    "    # Get the size of the document in bytes\n",
    "    doc_size = os.path.getsize(doc)\n",
    "\n",
    "    # Generate the header (metadata for the embedded document)\n",
    "    header = generate_header(doc)\n",
    "\n",
    "    # Calculate the embedding capacity (total number of pixels in the image)\n",
    "    capacity = h * w\n",
    "    header_length = len(header)  # Header length (fixed at 30 bytes)\n",
    "\n",
    "    # Check if the document (including the header) can fit in the image\n",
    "    if doc_size + header_length > capacity:\n",
    "        print(doc, 'too large to fit in', vessel_image)\n",
    "        return None\n",
    "\n",
    "    # Start embedding the data\n",
    "    cnt = 0  # Byte counter for tracking progress\n",
    "    file_handle = open(doc, 'rb')  # Open the document in binary read mode\n",
    "\n",
    "    flag = True  # To stop embedding when EOF is reached\n",
    "    i = 0  # Row index\n",
    "    while i < h and flag:  # Iterate over rows\n",
    "        j = 0  # Column index\n",
    "        while j < w and flag:  # Iterate over columns in the current row\n",
    "            # Fetch the current pixel's color components (B, G, R)\n",
    "            pixel = mem_image[i, j]\n",
    "            blue = pixel[0]\n",
    "            green = pixel[1]\n",
    "            red = pixel[2]\n",
    "\n",
    "            # Determine the source of the data byte to embed\n",
    "            if cnt < header_length:\n",
    "                # Embed from the header\n",
    "                data = ord(header[cnt])  # Convert header character to its ASCII value\n",
    "            else:\n",
    "                # Embed from the document\n",
    "                data = file_handle.read(1)  # Read a byte from the file\n",
    "                if data:  # If data is valid (not EOF)\n",
    "                    data = int.from_bytes(data, byteorder='big')  # Convert byte to integer\n",
    "                else:\n",
    "                    # Reached EOF\n",
    "                    flag = False  # Stop embedding\n",
    "                    continue\n",
    "\n",
    "            # Split the data byte into three segments: 3 bits, 3 bits, 2 bits\n",
    "            bits = split_byte_to_bits(data)\n",
    "\n",
    "            # Embed the bits into the pixel's color channels\n",
    "            red = (red & (~0x7)) | bits[0]  # Embed the first 3 bits into the red channel\n",
    "            green = (green & (~0x7)) | bits[1]  # Embed the next 3 bits into the green channel\n",
    "            blue = (blue & (~0x3)) | bits[2]  # Embed the last 2 bits into the blue channel\n",
    "\n",
    "            # Update the pixel in the memory image\n",
    "            mem_image[i, j, 0] = blue\n",
    "            mem_image[i, j, 1] = green\n",
    "            mem_image[i, j, 2] = red\n",
    "\n",
    "            cnt += 1  # Move to the next byte\n",
    "            j += 1  # Move to the next column\n",
    "        i += 1  # Move to the next row\n",
    "\n",
    "    file_handle.close()  # Close the document file\n",
    "\n",
    "    # Save the modified image with an embedded file\n",
    "    target_image = generate_embedded_imagename(vessel_image)  # Generate a new image name\n",
    "    cv2.imwrite(target_image, mem_image)  # Save the embedded image\n",
    "\n",
    "    return target_image  # Return the name of the saved embedded image\n"
   ]
  },
  {
   "cell_type": "markdown",
   "id": "c50137e2-40f0-4b04-bcff-1a4ab2e01094",
   "metadata": {},
   "source": [
    "**5. Extract Data from Image**"
   ]
  },
  {
   "cell_type": "code",
   "execution_count": 10,
   "id": "7178b78e-3627-4274-be29-ea2682836349",
   "metadata": {},
   "outputs": [],
   "source": [
    "def extract(embedded_image, target_folder):\n",
    "    # Extracts the embedded document from an image and saves it to a specified folder.\n",
    "\n",
    "    # Check if the embedded image exists\n",
    "    if not os.path.exists(embedded_image):\n",
    "        print(embedded_image, 'not found')\n",
    "        return None\n",
    "\n",
    "    # Check if the target folder exists\n",
    "    if not os.path.exists(target_folder):\n",
    "        print(target_folder, 'not found')\n",
    "        return None\n",
    "\n",
    "    # Load the embedded image into memory as a NumPy array\n",
    "    mem_img = cv2.imread(embedded_image, cv2.IMREAD_COLOR)\n",
    "\n",
    "    # Fetch the size of the image (height, width, and color channels)\n",
    "    h, w, _ = mem_img.shape\n",
    "\n",
    "    # Fixed header length (20 bytes for filename + 10 bytes for file size)\n",
    "    header_length = 30\n",
    "    flag = True  # Flag to indicate when to stop extraction\n",
    "    i = 0  # Row index\n",
    "    cnt = 0  # Byte counter for tracking progress\n",
    "    header = ''  # Variable to store the extracted header\n",
    "\n",
    "    # Loop through the pixels to extract the data\n",
    "    while i < h and flag:  # Iterate over rows\n",
    "        j = 0  # Column index\n",
    "        while j < w and flag:  # Iterate over columns in the current row\n",
    "            # Fetch the current pixel's color components (Blue, Green, Red)\n",
    "            pixel = mem_img[i, j]\n",
    "            blue = pixel[0]\n",
    "            green = pixel[1]\n",
    "            red = pixel[2]\n",
    "\n",
    "            # Extract the embedded bits from the pixel's color channels\n",
    "            red_bits = extract_nbits_of_byte(red, 3)  # Extract 3 bits from the red channel\n",
    "            green_bits = extract_nbits_of_byte(green, 3)  # Extract 3 bits from the green channel\n",
    "            blue_bits = extract_nbits_of_byte(blue, 2)  # Extract 2 bits from the blue channel\n",
    "\n",
    "            # Merge the extracted bits to reconstruct the original byte\n",
    "            data = merge_bits(red_bits, green_bits, blue_bits)\n",
    "\n",
    "            if cnt < header_length:\n",
    "                # Extract header data (filename and file size)\n",
    "                header = header + chr(data)  # Convert the byte to a character and append\n",
    "            else:\n",
    "                if cnt == header_length:\n",
    "                    # Process the header after it's fully extracted\n",
    "                    print(header)  # Debug: Print the header\n",
    "                    filename = header[:20].strip('*')  # Extract and clean the filename\n",
    "                    filesize = int(header[20:].strip('*'))  # Extract and convert file size\n",
    "\n",
    "                    # Open the target file for writing in binary mode\n",
    "                    file_handle = open(target_folder + '/' + filename, 'wb')\n",
    "\n",
    "                if cnt - header_length < filesize:\n",
    "                    # Extract the file data if still within the file size limit\n",
    "                    # Convert NumPy integer to Python integer, then to a byte object\n",
    "                    data = int.to_bytes(int(data), 1, byteorder='big')\n",
    "                    file_handle.write(data)  # Write the byte object to the file\n",
    "                else:\n",
    "                    # File extraction complete\n",
    "                    file_handle.close()  # Close the file\n",
    "                    flag = False  # Stop extraction\n",
    "\n",
    "            cnt += 1  # Increment the byte counter\n",
    "            j += 1  # Move to the next column\n",
    "        i += 1  # Move to the next row\n",
    "\n",
    "    # Return the path of the extracted file\n",
    "    return target_folder + '/' + filename"
   ]
  },
  {
   "cell_type": "markdown",
   "id": "c13f731d-44ad-4d3e-8314-ecbe12d9f4e1",
   "metadata": {},
   "source": [
    "**6. Main Function: Menu for User Interaction**"
   ]
  },
  {
   "cell_type": "code",
   "execution_count": null,
   "id": "c65ed09e-eec0-4952-9816-1178f2773e5b",
   "metadata": {},
   "outputs": [
    {
     "name": "stdout",
     "output_type": "stream",
     "text": [
      "1. Click here to EMBED\n",
      "2. Click here to EXTRACT\n",
      "3. EXIT\n",
      "Enter Your Choice: \n"
     ]
    },
    {
     "name": "stdin",
     "output_type": "stream",
     "text": [
      " 1\n"
     ]
    },
    {
     "name": "stdout",
     "output_type": "stream",
     "text": [
      "Enter vessel image path\n"
     ]
    },
    {
     "name": "stdin",
     "output_type": "stream",
     "text": [
      " /Users/sakshizanjad/Downloads/ADAP/images/image5.png\n"
     ]
    },
    {
     "name": "stdout",
     "output_type": "stream",
     "text": [
      "Enter file to embed\n"
     ]
    },
    {
     "name": "stdin",
     "output_type": "stream",
     "text": [
      " /Users/sakshizanjad/Downloads/ADAP/Stegano file.rtf\n"
     ]
    },
    {
     "name": "stdout",
     "output_type": "stream",
     "text": [
      "Embedding Done, result:  /Users/sakshizanjad/Downloads/ADAP/images/e_image5.png\n",
      "1. Click here to EMBED\n",
      "2. Click here to EXTRACT\n",
      "3. EXIT\n",
      "Enter Your Choice: \n"
     ]
    },
    {
     "name": "stdin",
     "output_type": "stream",
     "text": [
      " 2\n"
     ]
    },
    {
     "name": "stdout",
     "output_type": "stream",
     "text": [
      "Enter embedded image path\n"
     ]
    },
    {
     "name": "stdin",
     "output_type": "stream",
     "text": [
      " /Users/sakshizanjad/Downloads/ADAP/images/e_image5.png\n"
     ]
    },
    {
     "name": "stdout",
     "output_type": "stream",
     "text": [
      "Enter target folder for saving the extracted file\n"
     ]
    },
    {
     "name": "stdin",
     "output_type": "stream",
     "text": [
      " /Users/sakshizanjad/Downloads/ADAP/Extracted text files\n"
     ]
    },
    {
     "name": "stdout",
     "output_type": "stream",
     "text": [
      "****Stegano file.rtf*******414\n",
      "Extraction Done, result:  /Users/sakshizanjad/Downloads/ADAP/Extracted text files/Stegano file.rtf\n",
      "1. Click here to EMBED\n",
      "2. Click here to EXTRACT\n",
      "3. EXIT\n",
      "Enter Your Choice: \n"
     ]
    }
   ],
   "source": [
    "def main():\n",
    "    # Main function to provide a menu-driven interface for embedding and extracting data.\n",
    "\n",
    "    while True:\n",
    "        # Display the menu options\n",
    "        print('1. Click here to EMBED')\n",
    "        print('2. Click here to EXTRACT')\n",
    "        print('3. EXIT')\n",
    "        print('Enter Your Choice: ')\n",
    "        ch = int(input())  # Get the user's choice\n",
    "\n",
    "        if ch == 1:  # Option 1: Embed a file into an image\n",
    "            print('Enter vessel image path')  # Prompt for the image file\n",
    "            vessel_img = input()\n",
    "            print('Enter file to embed')  # Prompt for the file to embed\n",
    "            doc = input()\n",
    "\n",
    "            # Call the embed function\n",
    "            result = embed(vessel_img, doc)\n",
    "            if result is not None:  # Check if embedding was successful\n",
    "                print('Embedding Done, result: ', result)  # Display success message\n",
    "            else:\n",
    "                print('Embedding Failed')  # Display failure message\n",
    "\n",
    "        elif ch == 2:  # Option 2: Extract a file from an embedded image\n",
    "            print('Enter embedded image path')  # Prompt for the embedded image file\n",
    "            embedded_image = input()\n",
    "            print('Enter target folder for saving the extracted file')  # Prompt for target folder\n",
    "            target_folder = input()\n",
    "\n",
    "            # Call the extract function\n",
    "            result = extract(embedded_image, target_folder)\n",
    "            if result is not None:  # Check if extraction was successful\n",
    "                print('Extraction Done, result: ', result)  # Display success message\n",
    "            else:\n",
    "                print('Extraction Failed')  # Display failure message\n",
    "\n",
    "        elif ch == 3:  # Option 3: Exit the program\n",
    "            break  # Exit the loop and terminate the program\n",
    "\n",
    "        else:  # Invalid option\n",
    "            print('Wrong Choice')  # Notify the user of an invalid choice\n",
    "\n",
    "# Call the main function to start the program\n",
    "main()"
   ]
  },
  {
   "cell_type": "code",
   "execution_count": null,
   "id": "563ab31b-1a69-4ad4-be8f-b9856b783230",
   "metadata": {},
   "outputs": [],
   "source": []
  }
 ],
 "metadata": {
  "kernelspec": {
   "display_name": "Python 3 (ipykernel)",
   "language": "python",
   "name": "python3"
  },
  "language_info": {
   "codemirror_mode": {
    "name": "ipython",
    "version": 3
   },
   "file_extension": ".py",
   "mimetype": "text/x-python",
   "name": "python",
   "nbconvert_exporter": "python",
   "pygments_lexer": "ipython3",
   "version": "3.12.7"
  }
 },
 "nbformat": 4,
 "nbformat_minor": 5
}
