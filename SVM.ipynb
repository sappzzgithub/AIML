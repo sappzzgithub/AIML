{
 "cells": [
  {
   "cell_type": "code",
   "execution_count": null,
   "id": "37857b4e-b250-4d57-b51f-313b94196c95",
   "metadata": {},
   "outputs": [],
   "source": [
    "import pandas as pd\n",
    "import numpy as np"
   ]
  },
  {
   "cell_type": "code",
   "execution_count": null,
   "id": "46917bcc-06aa-4779-8387-662fb2025d40",
   "metadata": {},
   "outputs": [],
   "source": [
    "df = pd.read_csv(\"car_data.csv\")"
   ]
  },
  {
   "cell_type": "code",
   "execution_count": null,
   "id": "b4663a9e-442d-4a0f-b0c7-0c4abf4355f8",
   "metadata": {},
   "outputs": [],
   "source": [
    "df.head()"
   ]
  },
  {
   "cell_type": "code",
   "execution_count": null,
   "id": "afb1f547-1d45-4d9d-a3f6-2613c5e6779c",
   "metadata": {},
   "outputs": [],
   "source": [
    "df.info()"
   ]
  },
  {
   "cell_type": "code",
   "execution_count": null,
   "id": "5e3ee2c1-0fbe-4902-9f48-6cd6470d8fb0",
   "metadata": {},
   "outputs": [],
   "source": [
    "df.isnull().sum()"
   ]
  },
  {
   "cell_type": "code",
   "execution_count": null,
   "id": "e67856a5-2053-4132-b285-19195d382a1a",
   "metadata": {},
   "outputs": [],
   "source": [
    "df = pd.get_dummies(df,columns = ['Gender'],drop_first = True)"
   ]
  },
  {
   "cell_type": "code",
   "execution_count": null,
   "id": "89c03505-b3f0-4edf-be6c-b68459329184",
   "metadata": {},
   "outputs": [],
   "source": [
    "import seaborn as sns\n",
    "import matplotlib.pyplot as plt"
   ]
  },
  {
   "cell_type": "code",
   "execution_count": null,
   "id": "31724c5b-808c-4bf2-a03c-ff41aa92c13b",
   "metadata": {},
   "outputs": [],
   "source": [
    "for i in df.select_dtypes(include = \"number\").columns:\n",
    "    sns.boxplot(data=df,x=i)\n",
    "    plt.show()"
   ]
  },
  {
   "cell_type": "code",
   "execution_count": null,
   "id": "029323ae-1cb4-4367-987d-b116ef4ff06c",
   "metadata": {},
   "outputs": [],
   "source": [
    "x = df.drop(['User ID','Purchased'],axis=1)"
   ]
  },
  {
   "cell_type": "code",
   "execution_count": null,
   "id": "0e3dc38a-1750-4270-8086-e4abcb5ac9e9",
   "metadata": {},
   "outputs": [],
   "source": [
    "y = df['Purchased']"
   ]
  },
  {
   "cell_type": "code",
   "execution_count": null,
   "id": "8ba63a13-e12f-4dfc-9262-a8857be6537b",
   "metadata": {},
   "outputs": [],
   "source": [
    "from sklearn.model_selection import train_test_split\n",
    "x_train,x_test,y_train,y_test = train_test_split(x,y,test_size=0.2,random_state=0)"
   ]
  },
  {
   "cell_type": "code",
   "execution_count": null,
   "id": "083ec5a3-006d-4c90-8a66-b9696ece7311",
   "metadata": {},
   "outputs": [],
   "source": [
    "from sklearn.svm import SVC"
   ]
  },
  {
   "cell_type": "code",
   "execution_count": null,
   "id": "aa4b3e8b-ee5f-4c9d-b9e0-eefc96edbcce",
   "metadata": {},
   "outputs": [],
   "source": [
    "svm = SVC(kernel = 'linear', random_state = 42)"
   ]
  },
  {
   "cell_type": "code",
   "execution_count": null,
   "id": "4a04a53e-ca1f-49a9-adcf-9fae01cf8d16",
   "metadata": {},
   "outputs": [],
   "source": [
    "svm.fit(x_train,y_train)"
   ]
  },
  {
   "cell_type": "code",
   "execution_count": null,
   "id": "9329df2d-cd87-4e11-8724-b8032105711e",
   "metadata": {},
   "outputs": [],
   "source": [
    "y_pred = svm.predict(x_test)"
   ]
  },
  {
   "cell_type": "code",
   "execution_count": null,
   "id": "2d2f95af-7d60-413b-b85c-fb9553480cc4",
   "metadata": {},
   "outputs": [],
   "source": [
    "from sklearn.metrics import accuracy_score"
   ]
  },
  {
   "cell_type": "code",
   "execution_count": null,
   "id": "59f2728a-5e72-45ad-9b56-03c77982d481",
   "metadata": {},
   "outputs": [],
   "source": [
    "svm_accuracy = accuracy_score(y_test,y_pred)"
   ]
  },
  {
   "cell_type": "code",
   "execution_count": null,
   "id": "49846b86-f54a-4a87-be1c-7f6031f95d42",
   "metadata": {},
   "outputs": [],
   "source": [
    "print(svm_accuracy)"
   ]
  },
  {
   "cell_type": "code",
   "execution_count": null,
   "id": "130f8862-1473-4bfd-ad85-a6346aecbaca",
   "metadata": {},
   "outputs": [],
   "source": []
  }
 ],
 "metadata": {
  "kernelspec": {
   "display_name": "Python 3 (ipykernel)",
   "language": "python",
   "name": "python3"
  },
  "language_info": {
   "codemirror_mode": {
    "name": "ipython",
    "version": 3
   },
   "file_extension": ".py",
   "mimetype": "text/x-python",
   "name": "python",
   "nbconvert_exporter": "python",
   "pygments_lexer": "ipython3",
   "version": "3.12.7"
  }
 },
 "nbformat": 4,
 "nbformat_minor": 5
}
